{
 "cells": [
  {
   "cell_type": "code",
   "execution_count": 13,
   "id": "5b3d4e47",
   "metadata": {},
   "outputs": [],
   "source": [
    "import tensorflow as tf\n",
    "import numpy as np\n",
    "import pandas as pd\n",
    "import matplotlib.pyplot as plt\n",
    "import os\n",
    "import random"
   ]
  },
  {
   "cell_type": "markdown",
   "id": "cc23aae6",
   "metadata": {},
   "source": [
    "# Create Dataset"
   ]
  },
  {
   "cell_type": "code",
   "execution_count": 14,
   "id": "35b46ab3",
   "metadata": {
    "scrolled": true
   },
   "outputs": [],
   "source": [
    "english=[]\n",
    "dutch=[]\n",
    "with open(\"data/data.txt\",\"r\",encoding=\"utf-8\")as f:\n",
    "    for i in f.readlines():\n",
    "        if i.split(\"|\")[0]==\"en\":\n",
    "            english.append(i.split(\"|\")[1])\n",
    "        else:\n",
    "            dutch.append(i.split(\"|\")[1])\n",
    "train=[]\n",
    "for i in english:\n",
    "    train.append([i,0])\n",
    "for i in dutch:\n",
    "    train.append([i,1])\n",
    "random.shuffle(train)\n",
    "x=[]\n",
    "y=[]\n",
    "for i,j in train:\n",
    "    x.append(i)\n",
    "    y.append(j)\n",
    "x=np.array(x)\n",
    "y=np.array(y)\n",
    "language_labels=[\"English\",\"Dutch\"]"
   ]
  },
  {
   "cell_type": "markdown",
   "id": "1c7a5ffe",
   "metadata": {},
   "source": [
    "# Create Tokenizer Instance"
   ]
  },
  {
   "cell_type": "code",
   "execution_count": 15,
   "id": "2dbb7808",
   "metadata": {},
   "outputs": [],
   "source": [
    "token=tf.keras.preprocessing.text.Tokenizer(1000,oov_token=\"<OOV>\")\n",
    "token.fit_on_texts(x)\n",
    "sequences=token.texts_to_sequences(x)\n",
    "padded_sequences=tf.keras.preprocessing.sequence.pad_sequences(sequences,padding=\"post\",truncating=\"post\",maxlen=100)"
   ]
  },
  {
   "cell_type": "markdown",
   "id": "45033207",
   "metadata": {},
   "source": [
    "# Create Model"
   ]
  },
  {
   "cell_type": "code",
   "execution_count": 16,
   "id": "172e1ad9",
   "metadata": {},
   "outputs": [],
   "source": [
    "model=tf.keras.models.Sequential([\n",
    "    tf.keras.layers.Embedding(len(token.word_index)+1,2,input_length=100),\n",
    "    tf.keras.layers.Bidirectional(tf.keras.layers.LSTM(64)),\n",
    "    tf.keras.layers.Dense(128,activation=\"relu\"),\n",
    "    tf.keras.layers.Dense(2,activation=\"softmax\")\n",
    "])"
   ]
  },
  {
   "cell_type": "markdown",
   "id": "d9f87cde",
   "metadata": {},
   "source": [
    "# Get Summary Of Model"
   ]
  },
  {
   "cell_type": "code",
   "execution_count": 17,
   "id": "9f4fd974",
   "metadata": {},
   "outputs": [
    {
     "name": "stdout",
     "output_type": "stream",
     "text": [
      "Model: \"sequential_1\"\n",
      "_________________________________________________________________\n",
      " Layer (type)                Output Shape              Param #   \n",
      "=================================================================\n",
      " embedding_1 (Embedding)     (None, 100, 2)            11338     \n",
      "                                                                 \n",
      " bidirectional_1 (Bidirectio  (None, 128)              34304     \n",
      " nal)                                                            \n",
      "                                                                 \n",
      " dense_2 (Dense)             (None, 128)               16512     \n",
      "                                                                 \n",
      " dense_3 (Dense)             (None, 2)                 258       \n",
      "                                                                 \n",
      "=================================================================\n",
      "Total params: 62,412\n",
      "Trainable params: 62,412\n",
      "Non-trainable params: 0\n",
      "_________________________________________________________________\n"
     ]
    }
   ],
   "source": [
    "model.summary()"
   ]
  },
  {
   "cell_type": "markdown",
   "id": "36cb3346",
   "metadata": {},
   "source": [
    "# Compile The Model"
   ]
  },
  {
   "cell_type": "code",
   "execution_count": 18,
   "id": "1c3e0a33",
   "metadata": {},
   "outputs": [],
   "source": [
    "model.compile(optimizer=\"adam\",loss=\"sparse_categorical_crossentropy\",metrics=[\"accuracy\"])"
   ]
  },
  {
   "cell_type": "markdown",
   "id": "dd193246",
   "metadata": {},
   "source": [
    "# Train The Model"
   ]
  },
  {
   "cell_type": "code",
   "execution_count": 19,
   "id": "1985e0d0",
   "metadata": {},
   "outputs": [
    {
     "name": "stdout",
     "output_type": "stream",
     "text": [
      "Epoch 1/30\n",
      "31/31 [==============================] - 8s 117ms/step - loss: 0.6735 - accuracy: 0.6528 - val_loss: 0.6540 - val_accuracy: 0.4112\n",
      "Epoch 2/30\n",
      "31/31 [==============================] - 8s 266ms/step - loss: 0.3863 - accuracy: 0.8773 - val_loss: 0.0706 - val_accuracy: 0.9907\n",
      "Epoch 3/30\n",
      "31/31 [==============================] - 9s 289ms/step - loss: 0.1532 - accuracy: 0.9761 - val_loss: 0.0917 - val_accuracy: 1.0000\n",
      "Epoch 4/30\n",
      "31/31 [==============================] - 8s 264ms/step - loss: 0.0485 - accuracy: 0.9969 - val_loss: 0.0344 - val_accuracy: 1.0000\n",
      "Epoch 5/30\n",
      "31/31 [==============================] - 10s 331ms/step - loss: 0.0169 - accuracy: 1.0000 - val_loss: 0.0212 - val_accuracy: 0.9907\n",
      "Epoch 6/30\n",
      "31/31 [==============================] - 9s 295ms/step - loss: 0.0086 - accuracy: 1.0000 - val_loss: 0.0163 - val_accuracy: 0.9907\n",
      "Epoch 7/30\n",
      "31/31 [==============================] - 8s 247ms/step - loss: 0.0050 - accuracy: 1.0000 - val_loss: 0.0115 - val_accuracy: 1.0000\n",
      "Epoch 8/30\n",
      "31/31 [==============================] - 8s 273ms/step - loss: 0.0034 - accuracy: 1.0000 - val_loss: 0.0136 - val_accuracy: 0.9907\n",
      "Epoch 9/30\n",
      "31/31 [==============================] - 9s 296ms/step - loss: 0.0027 - accuracy: 1.0000 - val_loss: 0.0116 - val_accuracy: 0.9907\n",
      "Epoch 10/30\n",
      "31/31 [==============================] - 9s 281ms/step - loss: 0.0019 - accuracy: 1.0000 - val_loss: 0.0089 - val_accuracy: 1.0000\n",
      "Epoch 11/30\n",
      "31/31 [==============================] - 9s 286ms/step - loss: 0.0015 - accuracy: 1.0000 - val_loss: 0.0127 - val_accuracy: 0.9907\n",
      "Epoch 12/30\n",
      "31/31 [==============================] - 10s 318ms/step - loss: 0.0012 - accuracy: 1.0000 - val_loss: 0.0116 - val_accuracy: 0.9907\n",
      "Epoch 13/30\n",
      "31/31 [==============================] - 9s 302ms/step - loss: 0.0010 - accuracy: 1.0000 - val_loss: 0.0087 - val_accuracy: 1.0000\n",
      "Epoch 14/30\n",
      "31/31 [==============================] - 9s 292ms/step - loss: 8.0243e-04 - accuracy: 1.0000 - val_loss: 0.0066 - val_accuracy: 1.0000\n",
      "Epoch 15/30\n",
      "31/31 [==============================] - 9s 275ms/step - loss: 6.9625e-04 - accuracy: 1.0000 - val_loss: 0.0092 - val_accuracy: 0.9907\n",
      "Epoch 16/30\n",
      "31/31 [==============================] - 9s 285ms/step - loss: 5.2831e-04 - accuracy: 1.0000 - val_loss: 0.0070 - val_accuracy: 1.0000\n",
      "Epoch 17/30\n",
      "31/31 [==============================] - 9s 299ms/step - loss: 4.7455e-04 - accuracy: 1.0000 - val_loss: 0.0118 - val_accuracy: 0.9907\n",
      "Epoch 18/30\n",
      "31/31 [==============================] - 9s 303ms/step - loss: 4.0724e-04 - accuracy: 1.0000 - val_loss: 0.0094 - val_accuracy: 0.9907\n",
      "Epoch 19/30\n",
      "31/31 [==============================] - 9s 285ms/step - loss: 3.4113e-04 - accuracy: 1.0000 - val_loss: 0.0195 - val_accuracy: 0.9907\n",
      "Epoch 20/30\n",
      "31/31 [==============================] - 8s 266ms/step - loss: 7.4412e-04 - accuracy: 1.0000 - val_loss: 0.0063 - val_accuracy: 1.0000\n",
      "Epoch 21/30\n",
      "31/31 [==============================] - 9s 284ms/step - loss: 2.6563e-04 - accuracy: 1.0000 - val_loss: 0.0062 - val_accuracy: 1.0000\n",
      "Epoch 22/30\n",
      "31/31 [==============================] - 8s 259ms/step - loss: 2.7495e-04 - accuracy: 1.0000 - val_loss: 0.0111 - val_accuracy: 0.9907\n",
      "Epoch 23/30\n",
      "31/31 [==============================] - 8s 264ms/step - loss: 1.9724e-04 - accuracy: 1.0000 - val_loss: 0.0066 - val_accuracy: 1.0000\n",
      "Epoch 24/30\n",
      "31/31 [==============================] - 8s 261ms/step - loss: 1.7843e-04 - accuracy: 1.0000 - val_loss: 0.0107 - val_accuracy: 0.9907\n",
      "Epoch 25/30\n",
      "31/31 [==============================] - 8s 264ms/step - loss: 1.6588e-04 - accuracy: 1.0000 - val_loss: 0.0055 - val_accuracy: 1.0000\n",
      "Epoch 26/30\n",
      "31/31 [==============================] - 8s 264ms/step - loss: 1.4928e-04 - accuracy: 1.0000 - val_loss: 0.0077 - val_accuracy: 1.0000\n",
      "Epoch 27/30\n",
      "31/31 [==============================] - 8s 262ms/step - loss: 1.3106e-04 - accuracy: 1.0000 - val_loss: 0.0069 - val_accuracy: 1.0000\n",
      "Epoch 28/30\n",
      "31/31 [==============================] - 9s 282ms/step - loss: 1.1878e-04 - accuracy: 1.0000 - val_loss: 0.0092 - val_accuracy: 0.9907\n",
      "Epoch 29/30\n",
      "31/31 [==============================] - 8s 269ms/step - loss: 1.0877e-04 - accuracy: 1.0000 - val_loss: 0.0073 - val_accuracy: 1.0000\n",
      "Epoch 30/30\n",
      "31/31 [==============================] - 6s 179ms/step - loss: 1.0340e-04 - accuracy: 1.0000 - val_loss: 0.0094 - val_accuracy: 0.9907\n"
     ]
    }
   ],
   "source": [
    "history=model.fit(padded_sequences,y,epochs=30,validation_split=0.1)"
   ]
  },
  {
   "cell_type": "markdown",
   "id": "5c5e8013",
   "metadata": {},
   "source": [
    "# Accuracy Graph"
   ]
  },
  {
   "cell_type": "code",
   "execution_count": 20,
   "id": "14d983a8",
   "metadata": {},
   "outputs": [
    {
     "data": {
      "text/plain": [
       "<matplotlib.legend.Legend at 0x2c69cd55e50>"
      ]
     },
     "execution_count": 20,
     "metadata": {},
     "output_type": "execute_result"
    },
    {
     "data": {
      "image/png": "[encoded data removed]",
      "text/plain": [
       "<Figure size 432x288 with 1 Axes>"
      ]
     },
     "metadata": {
      "needs_background": "light"
     },
     "output_type": "display_data"
    }
   ],
   "source": [
    "plt.plot(history.history[\"accuracy\"])\n",
    "plt.plot(history.history[\"val_accuracy\"])\n",
    "plt.title(\"Model Accuracy\")\n",
    "plt.ylabel(\"Accuracy\")\n",
    "plt.xlabel(\"Epoch\")\n",
    "plt.legend([\"Train\",\"Validation\"],loc=\"best\")"
   ]
  },
  {
   "cell_type": "markdown",
   "id": "95eb7142",
   "metadata": {},
   "source": [
    "# Loss Graph"
   ]
  },
  {
   "cell_type": "code",
   "execution_count": 21,
   "id": "df19dad4",
   "metadata": {},
   "outputs": [
    {
     "data": {
      "text/plain": [
       "<matplotlib.legend.Legend at 0x2c691cbf5b0>"
      ]
     },
     "execution_count": 21,
     "metadata": {},
     "output_type": "execute_result"
    },
    {
     "data": {
      "image/png": "[encoded data removed]",
      "text/plain": [
       "<Figure size 432x288 with 1 Axes>"
      ]
     },
     "metadata": {
      "needs_background": "light"
     },
     "output_type": "display_data"
    }
   ],
   "source": [
    "plt.plot(history.history[\"loss\"])\n",
    "plt.plot(history.history[\"val_loss\"])\n",
    "plt.title(\"Model Loss\")\n",
    "plt.ylabel(\"Loss\")\n",
    "plt.xlabel(\"Epoch\")\n",
    "plt.legend([\"Train\",\"Validation\"],loc=\"best\")"
   ]
  },
  {
   "cell_type": "markdown",
   "id": "c7e0beb2",
   "metadata": {},
   "source": [
    "# Predict On Test Sentences"
   ]
  },
  {
   "cell_type": "code",
   "execution_count": 30,
   "id": "f5ff4896",
   "metadata": {},
   "outputs": [
    {
     "name": "stdout",
     "output_type": "stream",
     "text": [
      "1/1 [==============================] - 0s 33ms/step\n",
      "1/1 [==============================] - 0s 31ms/step\n",
      "Detected English Language In Sentence 0 With Confidence 0.903361439704895\n",
      "Detected Dutch Language In Sentence 1 With Confidence 0.9999831914901733\n"
     ]
    }
   ],
   "source": [
    "test_sentences=[\"hi bro, my name is abhimanyu. nice to meet you! im a programmer and i created this NLP model to classify that a given sentence is in English or Dutch\",\"hallo bro, mijn naam is abhimanyu. Aangenaam! ik ben een programmeur en ik heb dit NLP-model gemaakt om te classificeren dat een bepaalde zin in het Engels of Nederlands is\"]\n",
    "token.fit_on_texts(test_sentences)\n",
    "sequences=token.texts_to_sequences(test_sentences)\n",
    "test_padded_sequences=tf.keras.preprocessing.sequence.pad_sequences(sequences,maxlen=100,padding=\"post\",truncating=\"post\")\n",
    "give_label=[np.round(i) for i in model.predict(test_padded_sequences)]\n",
    "detected_language=[]\n",
    "confidences=[]\n",
    "for i in give_label:\n",
    "    detected_language.append(language_labels[i.argmax()])\n",
    "for i in model.predict(test_padded_sequences):\n",
    "    confidences.append(i)\n",
    "for j,i in enumerate(detected_language):\n",
    "    print(f\"Detected {i} Language In Sentence {j} With Confidence {np.max(confidences[j])}\")"
   ]
  },
  {
   "cell_type": "markdown",
   "id": "9af39263",
   "metadata": {},
   "source": [
    "# Save The Model"
   ]
  },
  {
   "cell_type": "code",
   "execution_count": 23,
   "id": "126e4393",
   "metadata": {},
   "outputs": [],
   "source": [
    "model.save(\"classifier.h5\")"
   ]
  }
 ],
 "metadata": {
  "kernelspec": {
   "display_name": "Python 3 (ipykernel)",
   "language": "python",
   "name": "python3"
  },
  "language_info": {
   "codemirror_mode": {
    "name": "ipython",
    "version": 3
   },
   "file_extension": ".py",
   "mimetype": "text/x-python",
   "name": "python",
   "nbconvert_exporter": "python",
   "pygments_lexer": "ipython3",
   "version": "3.9.7"
  }
 },
 "nbformat": 4,
 "nbformat_minor": 5
}
