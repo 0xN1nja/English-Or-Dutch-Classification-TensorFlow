{
 "cells": [
  {
   "cell_type": "code",
   "execution_count": 200,
   "id": "5b3d4e47",
   "metadata": {},
   "outputs": [],
   "source": [
    "import tensorflow as tf\n",
    "import numpy as np\n",
    "import pandas as pd\n",
    "import matplotlib.pyplot as plt\n",
    "import os\n",
    "import random"
   ]
  },
  {
   "cell_type": "markdown",
   "id": "cc23aae6",
   "metadata": {},
   "source": [
    "# Create Dataset"
   ]
  },
  {
   "cell_type": "code",
   "execution_count": 201,
   "id": "35b46ab3",
   "metadata": {
    "scrolled": true
   },
   "outputs": [],
   "source": [
    "english=[]\n",
    "dutch=[]\n",
    "with open(\"data/data.txt\",\"r\",encoding=\"utf-8\")as f:\n",
    "    for i in f.readlines():\n",
    "        if i.split(\"|\")[0]==\"en\":\n",
    "            english.append(i.split(\"|\")[1])\n",
    "        else:\n",
    "            dutch.append(i.split(\"|\")[1])\n",
    "train=[]\n",
    "for i in english:\n",
    "    train.append([i,0])\n",
    "for i in dutch:\n",
    "    train.append([i,1])\n",
    "random.shuffle(train)\n",
    "x=[]\n",
    "y=[]\n",
    "for i,j in train:\n",
    "    x.append(i)\n",
    "    y.append(j)\n",
    "x=np.array(x)\n",
    "y=np.array(y)\n",
    "language_labels=[\"English\",\"Dutch\"]"
   ]
  },
  {
   "cell_type": "markdown",
   "id": "1c7a5ffe",
   "metadata": {},
   "source": [
    "# Create Tokenizer Instance"
   ]
  },
  {
   "cell_type": "code",
   "execution_count": 202,
   "id": "2dbb7808",
   "metadata": {},
   "outputs": [],
   "source": [
    "token=tf.keras.preprocessing.text.Tokenizer(1000,oov_token=\"<OOV>\")\n",
    "token.fit_on_texts(x)\n",
    "sequences=token.texts_to_sequences(x)\n",
    "padded_sequences=tf.keras.preprocessing.sequence.pad_sequences(sequences,padding=\"post\",truncating=\"post\",maxlen=100)"
   ]
  },
  {
   "cell_type": "markdown",
   "id": "45033207",
   "metadata": {},
   "source": [
    "# Create Model"
   ]
  },
  {
   "cell_type": "code",
   "execution_count": 203,
   "id": "172e1ad9",
   "metadata": {},
   "outputs": [],
   "source": [
    "model=tf.keras.models.Sequential([\n",
    "    tf.keras.layers.Embedding(len(token.word_index)+1,2,input_length=100),\n",
    "    tf.keras.layers.GlobalAveragePooling1D(),\n",
    "    tf.keras.layers.Dense(128,activation=\"relu\"),\n",
    "    tf.keras.layers.Dense(2,activation=\"softmax\")\n",
    "])"
   ]
  },
  {
   "cell_type": "markdown",
   "id": "d9f87cde",
   "metadata": {},
   "source": [
    "# Get Summary Of Model"
   ]
  },
  {
   "cell_type": "code",
   "execution_count": 204,
   "id": "9f4fd974",
   "metadata": {},
   "outputs": [
    {
     "name": "stdout",
     "output_type": "stream",
     "text": [
      "Model: \"sequential_10\"\n",
      "_________________________________________________________________\n",
      " Layer (type)                Output Shape              Param #   \n",
      "=================================================================\n",
      " embedding_10 (Embedding)    (None, 100, 2)            11338     \n",
      "                                                                 \n",
      " global_average_pooling1d_10  (None, 2)                0         \n",
      "  (GlobalAveragePooling1D)                                       \n",
      "                                                                 \n",
      " dense_20 (Dense)            (None, 128)               384       \n",
      "                                                                 \n",
      " dense_21 (Dense)            (None, 2)                 258       \n",
      "                                                                 \n",
      "=================================================================\n",
      "Total params: 11,980\n",
      "Trainable params: 11,980\n",
      "Non-trainable params: 0\n",
      "_________________________________________________________________\n"
     ]
    }
   ],
   "source": [
    "model.summary()"
   ]
  },
  {
   "cell_type": "markdown",
   "id": "36cb3346",
   "metadata": {},
   "source": [
    "# Compile The Model"
   ]
  },
  {
   "cell_type": "code",
   "execution_count": 205,
   "id": "1c3e0a33",
   "metadata": {},
   "outputs": [],
   "source": [
    "model.compile(optimizer=\"adam\",loss=\"sparse_categorical_crossentropy\",metrics=[\"accuracy\"])"
   ]
  },
  {
   "cell_type": "markdown",
   "id": "dd193246",
   "metadata": {},
   "source": [
    "# Train The Model"
   ]
  },
  {
   "cell_type": "code",
   "execution_count": 206,
   "id": "1985e0d0",
   "metadata": {},
   "outputs": [
    {
     "name": "stdout",
     "output_type": "stream",
     "text": [
      "Epoch 1/30\n",
      "31/31 [==============================] - 2s 23ms/step - loss: 0.6932 - accuracy: 0.5062 - val_loss: 0.6942 - val_accuracy: 0.4393\n",
      "Epoch 2/30\n",
      "31/31 [==============================] - 0s 8ms/step - loss: 0.6926 - accuracy: 0.5062 - val_loss: 0.6952 - val_accuracy: 0.4393\n",
      "Epoch 3/30\n",
      "31/31 [==============================] - 0s 8ms/step - loss: 0.6908 - accuracy: 0.5062 - val_loss: 0.6915 - val_accuracy: 0.4393\n",
      "Epoch 4/30\n",
      "31/31 [==============================] - 0s 8ms/step - loss: 0.6874 - accuracy: 0.6570 - val_loss: 0.6888 - val_accuracy: 0.4393\n",
      "Epoch 5/30\n",
      "31/31 [==============================] - 0s 7ms/step - loss: 0.6785 - accuracy: 0.5135 - val_loss: 0.6759 - val_accuracy: 0.4486\n",
      "Epoch 6/30\n",
      "31/31 [==============================] - 0s 8ms/step - loss: 0.6537 - accuracy: 0.8877 - val_loss: 0.6445 - val_accuracy: 0.7196\n",
      "Epoch 7/30\n",
      "31/31 [==============================] - 0s 7ms/step - loss: 0.6074 - accuracy: 0.7775 - val_loss: 0.5792 - val_accuracy: 1.0000\n",
      "Epoch 8/30\n",
      "31/31 [==============================] - 0s 8ms/step - loss: 0.5347 - accuracy: 0.9969 - val_loss: 0.5097 - val_accuracy: 0.9813\n",
      "Epoch 9/30\n",
      "31/31 [==============================] - 0s 7ms/step - loss: 0.4398 - accuracy: 0.9886 - val_loss: 0.4069 - val_accuracy: 1.0000\n",
      "Epoch 10/30\n",
      "31/31 [==============================] - 0s 7ms/step - loss: 0.3367 - accuracy: 0.9990 - val_loss: 0.3075 - val_accuracy: 1.0000\n",
      "Epoch 11/30\n",
      "31/31 [==============================] - 0s 7ms/step - loss: 0.2471 - accuracy: 0.9990 - val_loss: 0.2276 - val_accuracy: 1.0000\n",
      "Epoch 12/30\n",
      "31/31 [==============================] - 0s 6ms/step - loss: 0.1773 - accuracy: 0.9990 - val_loss: 0.1719 - val_accuracy: 1.0000\n",
      "Epoch 13/30\n",
      "31/31 [==============================] - 0s 7ms/step - loss: 0.1287 - accuracy: 0.9990 - val_loss: 0.1291 - val_accuracy: 1.0000\n",
      "Epoch 14/30\n",
      "31/31 [==============================] - 0s 7ms/step - loss: 0.0963 - accuracy: 0.9990 - val_loss: 0.1003 - val_accuracy: 1.0000\n",
      "Epoch 15/30\n",
      "31/31 [==============================] - 0s 7ms/step - loss: 0.0748 - accuracy: 0.9990 - val_loss: 0.0801 - val_accuracy: 1.0000\n",
      "Epoch 16/30\n",
      "31/31 [==============================] - 0s 7ms/step - loss: 0.0596 - accuracy: 0.9990 - val_loss: 0.0663 - val_accuracy: 1.0000\n",
      "Epoch 17/30\n",
      "31/31 [==============================] - 0s 7ms/step - loss: 0.0486 - accuracy: 1.0000 - val_loss: 0.0572 - val_accuracy: 1.0000\n",
      "Epoch 18/30\n",
      "31/31 [==============================] - 0s 7ms/step - loss: 0.0404 - accuracy: 0.9990 - val_loss: 0.0471 - val_accuracy: 1.0000\n",
      "Epoch 19/30\n",
      "31/31 [==============================] - 0s 7ms/step - loss: 0.0341 - accuracy: 0.9990 - val_loss: 0.0410 - val_accuracy: 1.0000\n",
      "Epoch 20/30\n",
      "31/31 [==============================] - 0s 7ms/step - loss: 0.0292 - accuracy: 0.9990 - val_loss: 0.0358 - val_accuracy: 1.0000\n",
      "Epoch 21/30\n",
      "31/31 [==============================] - 0s 8ms/step - loss: 0.0255 - accuracy: 0.9990 - val_loss: 0.0304 - val_accuracy: 1.0000\n",
      "Epoch 22/30\n",
      "31/31 [==============================] - 0s 7ms/step - loss: 0.0224 - accuracy: 1.0000 - val_loss: 0.0274 - val_accuracy: 1.0000\n",
      "Epoch 23/30\n",
      "31/31 [==============================] - 0s 7ms/step - loss: 0.0196 - accuracy: 0.9990 - val_loss: 0.0249 - val_accuracy: 1.0000\n",
      "Epoch 24/30\n",
      "31/31 [==============================] - 0s 7ms/step - loss: 0.0175 - accuracy: 0.9990 - val_loss: 0.0222 - val_accuracy: 1.0000\n",
      "Epoch 25/30\n",
      "31/31 [==============================] - 0s 7ms/step - loss: 0.0157 - accuracy: 0.9990 - val_loss: 0.0200 - val_accuracy: 1.0000\n",
      "Epoch 26/30\n",
      "31/31 [==============================] - 0s 7ms/step - loss: 0.0142 - accuracy: 0.9990 - val_loss: 0.0178 - val_accuracy: 1.0000\n",
      "Epoch 27/30\n",
      "31/31 [==============================] - 0s 7ms/step - loss: 0.0132 - accuracy: 1.0000 - val_loss: 0.0169 - val_accuracy: 1.0000\n",
      "Epoch 28/30\n",
      "31/31 [==============================] - 0s 8ms/step - loss: 0.0119 - accuracy: 1.0000 - val_loss: 0.0161 - val_accuracy: 1.0000\n",
      "Epoch 29/30\n",
      "31/31 [==============================] - 0s 7ms/step - loss: 0.0110 - accuracy: 0.9990 - val_loss: 0.0138 - val_accuracy: 1.0000\n",
      "Epoch 30/30\n",
      "31/31 [==============================] - 0s 7ms/step - loss: 0.0099 - accuracy: 1.0000 - val_loss: 0.0134 - val_accuracy: 1.0000\n"
     ]
    }
   ],
   "source": [
    "history=model.fit(padded_sequences,y,epochs=30,validation_split=0.1)"
   ]
  },
  {
   "cell_type": "markdown",
   "id": "5c5e8013",
   "metadata": {},
   "source": [
    "# Accuracy Graph"
   ]
  },
  {
   "cell_type": "code",
   "execution_count": 207,
   "id": "14d983a8",
   "metadata": {},
   "outputs": [
    {
     "data": {
      "text/plain": [
       "<matplotlib.legend.Legend at 0x231d192dfa0>"
      ]
     },
     "execution_count": 207,
     "metadata": {},
     "output_type": "execute_result"
    },
    {
     "data": {
      "image/png": "[encoded data removed]",
      "text/plain": [
       "<Figure size 432x288 with 1 Axes>"
      ]
     },
     "metadata": {
      "needs_background": "light"
     },
     "output_type": "display_data"
    }
   ],
   "source": [
    "plt.plot(history.history[\"accuracy\"])\n",
    "plt.plot(history.history[\"val_accuracy\"])\n",
    "plt.title(\"Model Accuracy\")\n",
    "plt.ylabel(\"Accuracy\")\n",
    "plt.xlabel(\"Epoch\")\n",
    "plt.legend([\"Train\",\"Validation\"],loc=\"best\")"
   ]
  },
  {
   "cell_type": "markdown",
   "id": "95eb7142",
   "metadata": {},
   "source": [
    "# Loss Graph"
   ]
  },
  {
   "cell_type": "code",
   "execution_count": 208,
   "id": "df19dad4",
   "metadata": {},
   "outputs": [
    {
     "data": {
      "text/plain": [
       "<matplotlib.legend.Legend at 0x231c4381a60>"
      ]
     },
     "execution_count": 208,
     "metadata": {},
     "output_type": "execute_result"
    },
    {
     "data": {
      "image/png": "[encoded data removed]",
      "text/plain": [
       "<Figure size 432x288 with 1 Axes>"
      ]
     },
     "metadata": {
      "needs_background": "light"
     },
     "output_type": "display_data"
    }
   ],
   "source": [
    "plt.plot(history.history[\"loss\"])\n",
    "plt.plot(history.history[\"val_loss\"])\n",
    "plt.title(\"Model Loss\")\n",
    "plt.ylabel(\"Loss\")\n",
    "plt.xlabel(\"Epoch\")\n",
    "plt.legend([\"Train\",\"Validation\"],loc=\"best\")"
   ]
  },
  {
   "cell_type": "markdown",
   "id": "c7e0beb2",
   "metadata": {},
   "source": [
    "# Predict On Test Sentences"
   ]
  },
  {
   "cell_type": "code",
   "execution_count": 209,
   "id": "f5ff4896",
   "metadata": {},
   "outputs": [
    {
     "name": "stdout",
     "output_type": "stream",
     "text": [
      "1/1 [==============================] - 0s 175ms/step\n",
      "1/1 [==============================] - 0s 50ms/step\n",
      "Detected English Language In Sentence 0 With Confidence 0.9912410974502563\n",
      "Detected Dutch Language In Sentence 1 With Confidence 0.995238184928894\n"
     ]
    }
   ],
   "source": [
    "test_sentences=[\"hi bro, my name is abhimanyu. nice to meet you! im a programmer and i created this NLP model to classify that a given sentence is in English or Dutch\",\"hallo bro, mijn naam is abhimanyu. Aangenaam! ik ben een programmeur en ik heb dit NLP-model gemaakt om te classificeren dat een bepaalde zin in het Engels of Nederlands is\"]\n",
    "token.fit_on_texts(test_sentences)\n",
    "sequences=token.texts_to_sequences(test_sentences)\n",
    "test_padded_sequences=tf.keras.preprocessing.sequence.pad_sequences(sequences,maxlen=100,padding=\"post\",truncating=\"post\")\n",
    "give_label=[np.round(i) for i in model.predict(test_padded_sequences)]\n",
    "detected_language=[]\n",
    "confidences=[]\n",
    "for i in give_label:\n",
    "    detected_language.append(language_labels[i.argmax()])\n",
    "for i in model.predict(test_padded_sequences):\n",
    "    confidences.append(i)\n",
    "for j,i in enumerate(detected_language):\n",
    "    print(f\"Detected {i} Language In Sentence {j} With Confidence {np.max(confidences[j])}\")"
   ]
  },
  {
   "cell_type": "markdown",
   "id": "9af39263",
   "metadata": {},
   "source": [
    "# Save The Model"
   ]
  },
  {
   "cell_type": "code",
   "execution_count": 210,
   "id": "126e4393",
   "metadata": {},
   "outputs": [],
   "source": [
    "model.save(\"classifier.h5\")"
   ]
  },
  {
   "cell_type": "markdown",
   "id": "bfa4a9e8",
   "metadata": {},
   "source": [
    "# Convert To TFLite Model For Edge Devices"
   ]
  },
  {
   "cell_type": "code",
   "execution_count": 211,
   "id": "2a40b822",
   "metadata": {},
   "outputs": [
    {
     "name": "stdout",
     "output_type": "stream",
     "text": [
      "INFO:tensorflow:Assets written to: C:\\Users\\speed\\AppData\\Local\\Temp\\tmpx2bldu5q\\assets\n"
     ]
    },
    {
     "name": "stderr",
     "output_type": "stream",
     "text": [
      "INFO:tensorflow:Assets written to: C:\\Users\\speed\\AppData\\Local\\Temp\\tmpx2bldu5q\\assets\n"
     ]
    }
   ],
   "source": [
    "tf_lite_converter=tf.lite.TFLiteConverter.from_keras_model(model)\n",
    "with open(\"classifier.tflite\",\"wb\")as f:\n",
    "    f.write(tf_lite_converter.convert())"
   ]
  }
 ],
 "metadata": {
  "kernelspec": {
   "display_name": "Python 3 (ipykernel)",
   "language": "python",
   "name": "python3"
  },
  "language_info": {
   "codemirror_mode": {
    "name": "ipython",
    "version": 3
   },
   "file_extension": ".py",
   "mimetype": "text/x-python",
   "name": "python",
   "nbconvert_exporter": "python",
   "pygments_lexer": "ipython3",
   "version": "3.9.7"
  }
 },
 "nbformat": 4,
 "nbformat_minor": 5
}
